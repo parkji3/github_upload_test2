{
 "cells": [
  {
   "cell_type": "code",
   "execution_count": 5,
   "metadata": {},
   "outputs": [
    {
     "name": "stdout",
     "output_type": "stream",
     "text": [
      "helloAngela\n",
      "hello Angela\n",
      "hello Angela\n"
     ]
    }
   ],
   "source": [
    "print(\"hello\" + \"Angela\")\n",
    "print(\"hello\" + \" Angela\")\n",
    "print(\"hello\",\"Angela\")"
   ]
  },
  {
   "cell_type": "code",
   "execution_count": 9,
   "metadata": {},
   "outputs": [
    {
     "name": "stdout",
     "output_type": "stream",
     "text": [
      "123456778\n"
     ]
    }
   ],
   "source": [
    "print(\"1234\"+\"56778\")"
   ]
  },
  {
   "cell_type": "code",
   "execution_count": null,
   "metadata": {},
   "outputs": [],
   "source": [
    "if height == 120:\n",
    "    print(\"you can ride\")\n",
    "    age = int(input(\"what is your height?\"))\n",
    "    if age < 12:\n",
    "        \"pay $7\"\n",
    "    elif age <= 18:\n",
    "        \"pay $8\"\n",
    "    else:\n",
    "        \"pay $10\"\n",
    "else:\n",
    "    print(\"you have to be taller\")"
   ]
  },
  {
   "cell_type": "code",
   "execution_count": null,
   "metadata": {},
   "outputs": [],
   "source": []
  }
 ],
 "metadata": {
  "kernelspec": {
   "display_name": "Python 3",
   "language": "python",
   "name": "python3"
  },
  "language_info": {
   "codemirror_mode": {
    "name": "ipython",
    "version": 3
   },
   "file_extension": ".py",
   "mimetype": "text/x-python",
   "name": "python",
   "nbconvert_exporter": "python",
   "pygments_lexer": "ipython3",
   "version": "3.11.1"
  },
  "orig_nbformat": 4,
  "vscode": {
   "interpreter": {
    "hash": "aee8b7b246df8f9039afb4144a1f6fd8d2ca17a180786b69acc140d282b71a49"
   }
  }
 },
 "nbformat": 4,
 "nbformat_minor": 2
}
